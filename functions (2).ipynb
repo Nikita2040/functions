{
  "nbformat": 4,
  "nbformat_minor": 0,
  "metadata": {
    "colab": {
      "provenance": []
    },
    "kernelspec": {
      "name": "python3",
      "display_name": "Python 3"
    },
    "language_info": {
      "name": "python"
    }
  },
  "cells": [
    {
      "cell_type": "code",
      "execution_count": null,
      "metadata": {
        "id": "How7SuR7eEKz"
      },
      "outputs": [],
      "source": []
    },
    {
      "cell_type": "markdown",
      "source": [
        " # Functions\n"
      ],
      "metadata": {
        "id": "RHXHZTz7eTud"
      }
    },
    {
      "cell_type": "code",
      "source": [],
      "metadata": {
        "id": "BxGXDHyXhdpE"
      },
      "execution_count": null,
      "outputs": []
    },
    {
      "cell_type": "markdown",
      "source": [],
      "metadata": {
        "id": "X35MR56MeyWs"
      }
    },
    {
      "cell_type": "markdown",
      "source": [
        "1. What is python and why is it important\n",
        "\n",
        ";pythonnis a high level interpreted programming language known for its simplicity and versality. it supports multiple programming paradigms and has a vast eco system of libraries and frameworks for various applications\n",
        "\n",
        "Its important because of-\n",
        "\n",
        ".ease of learning\n",
        "\n",
        ".versatility\n",
        "\n",
        ".large community and eco system\n",
        "\n",
        ".industry adoption\n",
        "\n",
        "\n",
        "\n"
      ],
      "metadata": {
        "id": "Vw7GhP-Ifkbu"
      }
    },
    {
      "cell_type": "markdown",
      "source": [
        "2.what is interpreter in python\n",
        "\n",
        "ans-An interpreter is a programme that reads and executes python code line by line allowing you to see the results immedately."
      ],
      "metadata": {
        "id": "yf8NrS0biIdz"
      }
    },
    {
      "cell_type": "markdown",
      "source": [
        "3.What is an pre-defined keywords in Python?\n",
        "\n",
        "Ans-Python keywords are some predifined and reserved words that have special meanings.that are used to define the syntax of the coding ."
      ],
      "metadata": {
        "id": "V6n0fXo0IXSa"
      }
    },
    {
      "cell_type": "markdown",
      "source": [
        "<!-- 3.what are pre -defined keywords in python -->"
      ],
      "metadata": {
        "id": "5RYCfBz2IfEM"
      }
    },
    {
      "cell_type": "markdown",
      "source": [
        "4.Can keybowrds be used as variable names ?\n",
        "\n",
        "Ans-no, keywords cannot be used as variable names.\n",
        "Keywords are reserved words that have specific meaning to the complier or interpreter and are used to define the language stytax\n"
      ],
      "metadata": {
        "id": "koXrF3g5JTmr"
      }
    },
    {
      "cell_type": "markdown",
      "source": [
        "5.What is mutability in python?\n",
        "\n",
        "Ans-Mutability in python refers to the ability of an object to be modified after it is created. when an object is mutable.its value can be changed without creating a new object.\n"
      ],
      "metadata": {
        "id": "e2mK9-30Kb3O"
      }
    },
    {
      "cell_type": "markdown",
      "source": [
        "6.Why lists are mutable but tuples are immutable?\n",
        "\n",
        "Ans -Tuples are parentheses instead of square brackets ,and the terms in tuples cannot be modified butthe items in itmes can be modified.\n"
      ],
      "metadata": {
        "id": "40I5FMtQLEjK"
      }
    },
    {
      "cell_type": "markdown",
      "source": [
        "7.What is difference between \"==\" and 'is\"operator in python ?\n",
        "\n",
        "Ans-\"==\" this operator compares the values of two objects.it returns TRUE if the values are the same and FALSE otherwise .\n",
        "'is' this operator checks if two variables refers to the same object in memory.it returns TRUE if they do and FALSE if they don't."
      ],
      "metadata": {
        "id": "Z3BRZNbjMB26"
      }
    },
    {
      "cell_type": "markdown",
      "source": [
        "8.What are logical operators in pythons?\n",
        "\n",
        "Ans-Logical operators are used to combine or modify boolean values.there are three main logical operators:\n",
        "-AND\n",
        "-NOT\n",
        "-OR"
      ],
      "metadata": {
        "id": "yYFeQcFKNYgh"
      }
    },
    {
      "cell_type": "markdown",
      "source": [
        "9.What is type casting in pythons?\n",
        "\n",
        "Ans-type casting is the process of converting a variable's data type into another."
      ],
      "metadata": {
        "id": "ASGZRemaOMfY"
      }
    },
    {
      "cell_type": "markdown",
      "source": [
        "10.what is difference between implicts and explicts type casting?\n",
        "\n",
        "Ans-Implict type casting is performed automatically by the complier when a value is converted from one data type to another .\n",
        "Explict type casting is when the programers uses a special operator to manually convert a value from one data type to another"
      ],
      "metadata": {
        "id": "LHPwDThrOx1w"
      }
    },
    {
      "cell_type": "markdown",
      "source": [
        "11.What is purpose of conditional statements in pythons ?\n",
        "\n",
        "Ans-Conditional statement in pythons enables the execution of specific code blocks based on whetehr a condition is true or false .They introduce decision making capabilities making programms mpre dynamic responsive."
      ],
      "metadata": {
        "id": "RqIauOEsPu1j"
      }
    },
    {
      "cell_type": "markdown",
      "source": [
        "12.How does the Elif statement work?\n",
        "\n",
        "Ans-The Elif can be used in conditional statements to check for multiple conditions ."
      ],
      "metadata": {
        "id": "-3HcPtN7PuwY"
      }
    },
    {
      "cell_type": "markdown",
      "source": [],
      "metadata": {
        "id": "F4Lj4hiUPulQ"
      }
    },
    {
      "cell_type": "markdown",
      "source": [
        "13.What is differnce between for and while loops?\n",
        "\n",
        "Ans -FOR loopa are best suited for situations where you know exactly how many times the loop will execute .\n",
        "on the other hand WHILE loops are morew flexible and used when the number of iterations is unknown and depends on a dynamuc conditions"
      ],
      "metadata": {
        "id": "1_NpAnxtRlAO"
      }
    },
    {
      "cell_type": "markdown",
      "source": [
        "14.Describe a scenario where a while loops is more suitable than a for loops ?\n",
        "\n",
        "Ans-while you are reading data from a file until you reach the end. you don\"t know how many lines the file contains ,so you need a loop that keeps reading line by line until there are no more line to read.in such a case \"while loop\" is more appropriate because the number of iterations needed isn't known in advance ."
      ],
      "metadata": {
        "id": "KHkgDox4PuQc"
      }
    }
  ]
}